{
 "cells": [
  {
   "cell_type": "code",
   "execution_count": 4,
   "id": "32e3b5ed-557d-47a0-af2c-92b114425112",
   "metadata": {},
   "outputs": [
    {
     "data": {
      "text/plain": [
       "'C:\\\\Users\\\\PRATJADH\\\\AppData\\\\Local\\\\Programs\\\\Python\\\\Python311\\\\Lib\\\\site-packages\\\\pyspark'"
      ]
     },
     "execution_count": 4,
     "metadata": {},
     "output_type": "execute_result"
    }
   ],
   "source": [
    "import findspark\n",
    "findspark.init()\n",
    "findspark.find()"
   ]
  },
  {
   "cell_type": "code",
   "execution_count": 5,
   "id": "bd9dba0f-5d59-43a1-a0b5-7adcecd48712",
   "metadata": {},
   "outputs": [],
   "source": [
    "import pyspark"
   ]
  },
  {
   "cell_type": "code",
   "execution_count": 6,
   "id": "cd4574e2-607a-4fb4-b690-52b575ac5393",
   "metadata": {},
   "outputs": [],
   "source": [
    "from pyspark.sql import SparkSession"
   ]
  },
  {
   "cell_type": "code",
   "execution_count": 7,
   "id": "18f45b9c-5f1a-49ab-9060-a608612fcb6a",
   "metadata": {},
   "outputs": [],
   "source": [
    "from pyspark.sql.types import StructType, StructField, StringType, IntegerType"
   ]
  },
  {
   "cell_type": "code",
   "execution_count": 8,
   "id": "1b40baf1-2328-4f3f-86fa-9bc800b60b10",
   "metadata": {},
   "outputs": [],
   "source": [
    "spark = SparkSession.builder.appName('Practice').getOrCreate()"
   ]
  },
  {
   "cell_type": "code",
   "execution_count": 9,
   "id": "a3c389d1-805c-4c2c-9083-a47a54fc9eaa",
   "metadata": {},
   "outputs": [
    {
     "data": {
      "text/html": [
       "\n",
       "            <div>\n",
       "                <p><b>SparkSession - in-memory</b></p>\n",
       "                \n",
       "        <div>\n",
       "            <p><b>SparkContext</b></p>\n",
       "\n",
       "            <p><a href=\"http://LIN51013396.corp.capgemini.com:4040\">Spark UI</a></p>\n",
       "\n",
       "            <dl>\n",
       "              <dt>Version</dt>\n",
       "                <dd><code>v3.5.0</code></dd>\n",
       "              <dt>Master</dt>\n",
       "                <dd><code>local[*]</code></dd>\n",
       "              <dt>AppName</dt>\n",
       "                <dd><code>Practice</code></dd>\n",
       "            </dl>\n",
       "        </div>\n",
       "        \n",
       "            </div>\n",
       "        "
      ],
      "text/plain": [
       "<pyspark.sql.session.SparkSession at 0x2baff9a6710>"
      ]
     },
     "execution_count": 9,
     "metadata": {},
     "output_type": "execute_result"
    }
   ],
   "source": [
    "spark"
   ]
  },
  {
   "cell_type": "code",
   "execution_count": 10,
   "id": "33df8f24-3d37-4baf-9d7c-c1d259ba45d6",
   "metadata": {},
   "outputs": [],
   "source": [
    "data = [(1,\"Pratik\", 23), (2, \"Shubham\", 24), (3, \"Harshad\", 21), (4, \"Saurabh\", 30), (5, \"Kaustubh\", 32)]"
   ]
  },
  {
   "cell_type": "code",
   "execution_count": 11,
   "id": "77f0c0ff-9d94-4023-a962-c2b790406301",
   "metadata": {
    "editable": true,
    "slideshow": {
     "slide_type": ""
    },
    "tags": []
   },
   "outputs": [],
   "source": [
    "schema = StructType([\n",
    "    StructField(\"ID\", IntegerType(), True),\n",
    "    StructField(\"Name\", StringType(), True),\n",
    "    StructField(\"Age\", IntegerType(), True)\n",
    "])"
   ]
  },
  {
   "cell_type": "code",
   "execution_count": 12,
   "id": "09bc6209-9755-4dc0-a4ae-b364e6c9d0eb",
   "metadata": {},
   "outputs": [],
   "source": [
    "df = spark.createDataFrame(data, schema = schema)"
   ]
  },
  {
   "cell_type": "code",
   "execution_count": 13,
   "id": "c74de959-abd4-4a6d-9e05-6e1dd7195c44",
   "metadata": {},
   "outputs": [
    {
     "name": "stdout",
     "output_type": "stream",
     "text": [
      "+---+--------+---+\n",
      "| ID|    Name|Age|\n",
      "+---+--------+---+\n",
      "|  1|  Pratik| 23|\n",
      "|  2| Shubham| 24|\n",
      "|  3| Harshad| 21|\n",
      "|  4| Saurabh| 30|\n",
      "|  5|Kaustubh| 32|\n",
      "+---+--------+---+\n",
      "\n"
     ]
    }
   ],
   "source": [
    "df.show()"
   ]
  },
  {
   "cell_type": "code",
   "execution_count": 14,
   "id": "13d75528-bdbd-443a-b8ca-548c449b7eb4",
   "metadata": {},
   "outputs": [],
   "source": [
    "df.createOrReplaceTempView('emp')"
   ]
  },
  {
   "cell_type": "code",
   "execution_count": 15,
   "id": "a36b0814-c28d-4601-8d71-4d4a7e70f1a5",
   "metadata": {},
   "outputs": [
    {
     "name": "stdout",
     "output_type": "stream",
     "text": [
      "+---+--------+---+\n",
      "| ID|    Name|Age|\n",
      "+---+--------+---+\n",
      "|  1|  Pratik| 23|\n",
      "|  2| Shubham| 24|\n",
      "|  3| Harshad| 21|\n",
      "|  4| Saurabh| 30|\n",
      "|  5|Kaustubh| 32|\n",
      "+---+--------+---+\n",
      "\n"
     ]
    }
   ],
   "source": [
    "spark.sql('Select * from emp').show()"
   ]
  },
  {
   "cell_type": "code",
   "execution_count": null,
   "id": "e95f8241-eb05-4553-bb2f-d8079bb15eb7",
   "metadata": {},
   "outputs": [],
   "source": []
  }
 ],
 "metadata": {
  "kernelspec": {
   "display_name": "Python 3 (ipykernel)",
   "language": "python",
   "name": "python3"
  },
  "language_info": {
   "codemirror_mode": {
    "name": "ipython",
    "version": 3
   },
   "file_extension": ".py",
   "mimetype": "text/x-python",
   "name": "python",
   "nbconvert_exporter": "python",
   "pygments_lexer": "ipython3",
   "version": "3.11.1"
  }
 },
 "nbformat": 4,
 "nbformat_minor": 5
}
