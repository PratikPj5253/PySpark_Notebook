{
 "cells": [
  {
   "cell_type": "code",
   "execution_count": 17,
   "id": "d598f872-e0a9-4f46-8dfc-7564ca96012a",
   "metadata": {},
   "outputs": [
    {
     "name": "stdout",
     "output_type": "stream",
     "text": [
      "Collecting spark\n",
      "  Downloading spark-0.2.1.tar.gz (41 kB)\n",
      "     ---------------------------------------- 0.0/41.0 kB ? eta -:--:--\n",
      "     -------------------------------------- 41.0/41.0 kB 993.7 kB/s eta 0:00:00\n",
      "  Installing build dependencies: started\n",
      "  Installing build dependencies: finished with status 'done'\n",
      "  Getting requirements to build wheel: started\n",
      "  Getting requirements to build wheel: finished with status 'done'\n",
      "  Preparing metadata (pyproject.toml): started\n",
      "  Preparing metadata (pyproject.toml): finished with status 'done'\n",
      "Building wheels for collected packages: spark\n",
      "  Building wheel for spark (pyproject.toml): started\n",
      "  Building wheel for spark (pyproject.toml): finished with status 'done'\n",
      "  Created wheel for spark: filename=spark-0.2.1-py3-none-any.whl size=58759 sha256=6111150c4b3cca552f4726506a75ff3fe87195dcfa7973a94bd720b90c6ce0aa\n",
      "  Stored in directory: c:\\users\\pratjadh\\appdata\\local\\pip\\cache\\wheels\\67\\c2\\7c\\a53325365fba358ffff35af84a2e14cf88c18052f88acfa5f0\n",
      "Successfully built spark\n",
      "Installing collected packages: spark\n",
      "Successfully installed spark-0.2.1\n",
      "Note: you may need to restart the kernel to use updated packages.\n"
     ]
    },
    {
     "name": "stderr",
     "output_type": "stream",
     "text": [
      "\n",
      "[notice] A new release of pip is available: 23.3.1 -> 23.3.2\n",
      "[notice] To update, run: python.exe -m pip install --upgrade pip\n"
     ]
    }
   ],
   "source": [
    "pip install spark"
   ]
  },
  {
   "cell_type": "code",
   "execution_count": 20,
   "id": "d8804a2e-d85e-4159-b2ee-a8913c732ffe",
   "metadata": {},
   "outputs": [
    {
     "name": "stdout",
     "output_type": "stream",
     "text": [
      "Requirement already satisfied: pip in c:\\users\\pratjadh\\appdata\\local\\programs\\python\\python311\\lib\\site-packages (23.3.1)\n",
      "Collecting pip\n",
      "  Downloading pip-23.3.2-py3-none-any.whl.metadata (3.5 kB)\n",
      "Downloading pip-23.3.2-py3-none-any.whl (2.1 MB)\n",
      "   ---------------------------------------- 0.0/2.1 MB ? eta -:--:--\n",
      "   ------ --------------------------------- 0.3/2.1 MB 10.2 MB/s eta 0:00:01\n",
      "   ------ --------------------------------- 0.3/2.1 MB 10.2 MB/s eta 0:00:01\n",
      "   ------- -------------------------------- 0.4/2.1 MB 3.1 MB/s eta 0:00:01\n",
      "   ------- -------------------------------- 0.4/2.1 MB 3.1 MB/s eta 0:00:01\n",
      "   ------------- -------------------------- 0.7/2.1 MB 3.3 MB/s eta 0:00:01\n",
      "   --------------- ------------------------ 0.8/2.1 MB 3.2 MB/s eta 0:00:01\n",
      "   --------------- ------------------------ 0.8/2.1 MB 2.7 MB/s eta 0:00:01\n",
      "   ---------------- ----------------------- 0.9/2.1 MB 2.5 MB/s eta 0:00:01\n",
      "   ---------------------- ----------------- 1.2/2.1 MB 2.8 MB/s eta 0:00:01\n",
      "   ------------------------ --------------- 1.3/2.1 MB 2.8 MB/s eta 0:00:01\n",
      "   ------------------------ --------------- 1.3/2.1 MB 2.8 MB/s eta 0:00:01\n",
      "   ------------------------ --------------- 1.3/2.1 MB 2.3 MB/s eta 0:00:01\n",
      "   --------------------------- ------------ 1.5/2.1 MB 2.4 MB/s eta 0:00:01\n",
      "   ------------------------------------ --- 1.9/2.1 MB 2.8 MB/s eta 0:00:01\n",
      "   ---------------------------------------  2.1/2.1 MB 3.0 MB/s eta 0:00:01\n",
      "   ---------------------------------------- 2.1/2.1 MB 2.9 MB/s eta 0:00:00\n",
      "Installing collected packages: pip\n",
      "  Attempting uninstall: pip\n",
      "    Found existing installation: pip 23.3.1\n",
      "    Uninstalling pip-23.3.1:\n",
      "      Successfully uninstalled pip-23.3.1\n",
      "Successfully installed pip-23.3.2\n",
      "Note: you may need to restart the kernel to use updated packages.\n"
     ]
    }
   ],
   "source": [
    "pip install --upgrade pip\n"
   ]
  },
  {
   "cell_type": "code",
   "execution_count": 1,
   "id": "40339596-a153-4e88-94fb-614cb5e3f4e7",
   "metadata": {},
   "outputs": [
    {
     "data": {
      "text/plain": [
       "'C:\\\\Users\\\\PRATJADH\\\\AppData\\\\Local\\\\Programs\\\\Python\\\\Python311\\\\Lib\\\\site-packages\\\\pyspark'"
      ]
     },
     "execution_count": 1,
     "metadata": {},
     "output_type": "execute_result"
    }
   ],
   "source": [
    "import findspark\n",
    "findspark.init()\n",
    "findspark.find()"
   ]
  },
  {
   "cell_type": "code",
   "execution_count": 2,
   "id": "d9d4b638-7182-4fab-9d39-118d46a25611",
   "metadata": {},
   "outputs": [],
   "source": [
    "from pyspark import *"
   ]
  },
  {
   "cell_type": "code",
   "execution_count": 3,
   "id": "51cd3e07-af77-4857-bf97-f48ea86ed2ab",
   "metadata": {},
   "outputs": [],
   "source": [
    "sc = SparkContext.getOrCreate()"
   ]
  },
  {
   "cell_type": "code",
   "execution_count": 4,
   "id": "0f5ca00a-03a0-4232-a4c8-1ee97a5c2f64",
   "metadata": {},
   "outputs": [
    {
     "data": {
      "text/html": [
       "\n",
       "        <div>\n",
       "            <p><b>SparkContext</b></p>\n",
       "\n",
       "            <p><a href=\"http://LIN51013396.corp.capgemini.com:4040\">Spark UI</a></p>\n",
       "\n",
       "            <dl>\n",
       "              <dt>Version</dt>\n",
       "                <dd><code>v3.5.0</code></dd>\n",
       "              <dt>Master</dt>\n",
       "                <dd><code>local[*]</code></dd>\n",
       "              <dt>AppName</dt>\n",
       "                <dd><code>pyspark-shell</code></dd>\n",
       "            </dl>\n",
       "        </div>\n",
       "        "
      ],
      "text/plain": [
       "<SparkContext master=local[*] appName=pyspark-shell>"
      ]
     },
     "execution_count": 4,
     "metadata": {},
     "output_type": "execute_result"
    }
   ],
   "source": [
    "sc"
   ]
  },
  {
   "cell_type": "code",
   "execution_count": 6,
   "id": "8493d5e3-dd8d-4164-bcfa-8500b1c830ef",
   "metadata": {},
   "outputs": [],
   "source": [
    "rdd = sc.textFile(\"C:/Users/PRATJADH/Downloads/001-Wordcount.txt\")"
   ]
  },
  {
   "cell_type": "code",
   "execution_count": 11,
   "id": "40ca9e25-9598-47a0-a0ed-64ecd945aa40",
   "metadata": {},
   "outputs": [
    {
     "data": {
      "text/plain": [
       "['hi hello hi hey',\n",
       " 'hello hello day',\n",
       " 'good day hi',\n",
       " 'it is good day',\n",
       " 'hi hi hi hey',\n",
       " 'hey hello good',\n",
       " 'hello hi hello hi is',\n",
       " 'hi hello hi hey',\n",
       " 'hello hello hi',\n",
       " 'hi hi hi hey is',\n",
       " 'hey hello good',\n",
       " 'hello hi hello hi',\n",
       " 'hi hello hi hey',\n",
       " 'hello hello hi hi hi ',\n",
       " 'hi hi hi hey',\n",
       " 'hey hello is',\n",
       " 'hello hi hello hi hello',\n",
       " 'hi hello hi hey is',\n",
       " 'hello hello',\n",
       " 'hi hi hi hey is',\n",
       " 'hey hello',\n",
       " 'hello hi hello hi hi it',\n",
       " 'hi hello hi hey it',\n",
       " 'hello hello it',\n",
       " 'hi hi hi hey',\n",
       " 'hey hello',\n",
       " 'hello hi hello hi']"
      ]
     },
     "execution_count": 11,
     "metadata": {},
     "output_type": "execute_result"
    }
   ],
   "source": [
    "rdd.collect()"
   ]
  },
  {
   "cell_type": "code",
   "execution_count": 17,
   "id": "6a231ece-3b93-4d77-9860-e41d0228932a",
   "metadata": {},
   "outputs": [],
   "source": [
    "rdd2 = rdd.flatMap(lambda x: x.split(\" \"))"
   ]
  },
  {
   "cell_type": "code",
   "execution_count": 18,
   "id": "82a48585-9a1c-4f2a-a088-903ea764680b",
   "metadata": {},
   "outputs": [
    {
     "data": {
      "text/plain": [
       "['hi',\n",
       " 'hello',\n",
       " 'hi',\n",
       " 'hey',\n",
       " 'hello',\n",
       " 'hello',\n",
       " 'day',\n",
       " 'good',\n",
       " 'day',\n",
       " 'hi',\n",
       " 'it',\n",
       " 'is',\n",
       " 'good',\n",
       " 'day',\n",
       " 'hi',\n",
       " 'hi',\n",
       " 'hi',\n",
       " 'hey',\n",
       " 'hey',\n",
       " 'hello',\n",
       " 'good',\n",
       " 'hello',\n",
       " 'hi',\n",
       " 'hello',\n",
       " 'hi',\n",
       " 'is',\n",
       " 'hi',\n",
       " 'hello',\n",
       " 'hi',\n",
       " 'hey',\n",
       " 'hello',\n",
       " 'hello',\n",
       " 'hi',\n",
       " 'hi',\n",
       " 'hi',\n",
       " 'hi',\n",
       " 'hey',\n",
       " 'is',\n",
       " 'hey',\n",
       " 'hello',\n",
       " 'good',\n",
       " 'hello',\n",
       " 'hi',\n",
       " 'hello',\n",
       " 'hi',\n",
       " 'hi',\n",
       " 'hello',\n",
       " 'hi',\n",
       " 'hey',\n",
       " 'hello',\n",
       " 'hello',\n",
       " 'hi',\n",
       " 'hi',\n",
       " 'hi',\n",
       " '',\n",
       " 'hi',\n",
       " 'hi',\n",
       " 'hi',\n",
       " 'hey',\n",
       " 'hey',\n",
       " 'hello',\n",
       " 'is',\n",
       " 'hello',\n",
       " 'hi',\n",
       " 'hello',\n",
       " 'hi',\n",
       " 'hello',\n",
       " 'hi',\n",
       " 'hello',\n",
       " 'hi',\n",
       " 'hey',\n",
       " 'is',\n",
       " 'hello',\n",
       " 'hello',\n",
       " 'hi',\n",
       " 'hi',\n",
       " 'hi',\n",
       " 'hey',\n",
       " 'is',\n",
       " 'hey',\n",
       " 'hello',\n",
       " 'hello',\n",
       " 'hi',\n",
       " 'hello',\n",
       " 'hi',\n",
       " 'hi',\n",
       " 'it',\n",
       " 'hi',\n",
       " 'hello',\n",
       " 'hi',\n",
       " 'hey',\n",
       " 'it',\n",
       " 'hello',\n",
       " 'hello',\n",
       " 'it',\n",
       " 'hi',\n",
       " 'hi',\n",
       " 'hi',\n",
       " 'hey',\n",
       " 'hey',\n",
       " 'hello',\n",
       " 'hello',\n",
       " 'hi',\n",
       " 'hello',\n",
       " 'hi']"
      ]
     },
     "execution_count": 18,
     "metadata": {},
     "output_type": "execute_result"
    }
   ],
   "source": [
    "rdd2.collect()"
   ]
  },
  {
   "cell_type": "code",
   "execution_count": 21,
   "id": "632e4088-c1df-4075-b6cc-bf8b8f69f373",
   "metadata": {},
   "outputs": [],
   "source": [
    "rdd3 = rdd2.map(lambda x: (x, 1))"
   ]
  },
  {
   "cell_type": "code",
   "execution_count": 22,
   "id": "cdfb79f1-641e-42ff-8ed7-9a0c47b53fec",
   "metadata": {},
   "outputs": [
    {
     "data": {
      "text/plain": [
       "[('hi', 1),\n",
       " ('hello', 1),\n",
       " ('hi', 1),\n",
       " ('hey', 1),\n",
       " ('hello', 1),\n",
       " ('hello', 1),\n",
       " ('day', 1),\n",
       " ('good', 1),\n",
       " ('day', 1),\n",
       " ('hi', 1),\n",
       " ('it', 1),\n",
       " ('is', 1),\n",
       " ('good', 1),\n",
       " ('day', 1),\n",
       " ('hi', 1),\n",
       " ('hi', 1),\n",
       " ('hi', 1),\n",
       " ('hey', 1),\n",
       " ('hey', 1),\n",
       " ('hello', 1),\n",
       " ('good', 1),\n",
       " ('hello', 1),\n",
       " ('hi', 1),\n",
       " ('hello', 1),\n",
       " ('hi', 1),\n",
       " ('is', 1),\n",
       " ('hi', 1),\n",
       " ('hello', 1),\n",
       " ('hi', 1),\n",
       " ('hey', 1),\n",
       " ('hello', 1),\n",
       " ('hello', 1),\n",
       " ('hi', 1),\n",
       " ('hi', 1),\n",
       " ('hi', 1),\n",
       " ('hi', 1),\n",
       " ('hey', 1),\n",
       " ('is', 1),\n",
       " ('hey', 1),\n",
       " ('hello', 1),\n",
       " ('good', 1),\n",
       " ('hello', 1),\n",
       " ('hi', 1),\n",
       " ('hello', 1),\n",
       " ('hi', 1),\n",
       " ('hi', 1),\n",
       " ('hello', 1),\n",
       " ('hi', 1),\n",
       " ('hey', 1),\n",
       " ('hello', 1),\n",
       " ('hello', 1),\n",
       " ('hi', 1),\n",
       " ('hi', 1),\n",
       " ('hi', 1),\n",
       " ('', 1),\n",
       " ('hi', 1),\n",
       " ('hi', 1),\n",
       " ('hi', 1),\n",
       " ('hey', 1),\n",
       " ('hey', 1),\n",
       " ('hello', 1),\n",
       " ('is', 1),\n",
       " ('hello', 1),\n",
       " ('hi', 1),\n",
       " ('hello', 1),\n",
       " ('hi', 1),\n",
       " ('hello', 1),\n",
       " ('hi', 1),\n",
       " ('hello', 1),\n",
       " ('hi', 1),\n",
       " ('hey', 1),\n",
       " ('is', 1),\n",
       " ('hello', 1),\n",
       " ('hello', 1),\n",
       " ('hi', 1),\n",
       " ('hi', 1),\n",
       " ('hi', 1),\n",
       " ('hey', 1),\n",
       " ('is', 1),\n",
       " ('hey', 1),\n",
       " ('hello', 1),\n",
       " ('hello', 1),\n",
       " ('hi', 1),\n",
       " ('hello', 1),\n",
       " ('hi', 1),\n",
       " ('hi', 1),\n",
       " ('it', 1),\n",
       " ('hi', 1),\n",
       " ('hello', 1),\n",
       " ('hi', 1),\n",
       " ('hey', 1),\n",
       " ('it', 1),\n",
       " ('hello', 1),\n",
       " ('hello', 1),\n",
       " ('it', 1),\n",
       " ('hi', 1),\n",
       " ('hi', 1),\n",
       " ('hi', 1),\n",
       " ('hey', 1),\n",
       " ('hey', 1),\n",
       " ('hello', 1),\n",
       " ('hello', 1),\n",
       " ('hi', 1),\n",
       " ('hello', 1),\n",
       " ('hi', 1)]"
      ]
     },
     "execution_count": 22,
     "metadata": {},
     "output_type": "execute_result"
    }
   ],
   "source": [
    "rdd3.collect()"
   ]
  },
  {
   "cell_type": "code",
   "execution_count": 23,
   "id": "153f6b46-ba9e-469d-b8c3-29f8a3d16d62",
   "metadata": {},
   "outputs": [
    {
     "name": "stdout",
     "output_type": "stream",
     "text": [
      "Help on method sortByKey in module pyspark.rdd:\n",
      "\n",
      "sortByKey(ascending: Optional[bool] = True, numPartitions: Optional[int] = None, keyfunc: Callable[[Any], Any] = <function RDD.<lambda> at 0x000001CA99E69580>) -> 'RDD[Tuple[K, V]]' method of pyspark.rdd.PipelinedRDD instance\n",
      "    Sorts this RDD, which is assumed to consist of (key, value) pairs.\n",
      "    \n",
      "    .. versionadded:: 0.9.1\n",
      "    \n",
      "    Parameters\n",
      "    ----------\n",
      "    ascending : bool, optional, default True\n",
      "        sort the keys in ascending or descending order\n",
      "    numPartitions : int, optional\n",
      "        the number of partitions in new :class:`RDD`\n",
      "    keyfunc : function, optional, default identity mapping\n",
      "        a function to compute the key\n",
      "    \n",
      "    Returns\n",
      "    -------\n",
      "    :class:`RDD`\n",
      "        a new :class:`RDD`\n",
      "    \n",
      "    See Also\n",
      "    --------\n",
      "    :meth:`RDD.sortBy`\n",
      "    :meth:`pyspark.sql.DataFrame.sort`\n",
      "    \n",
      "    Examples\n",
      "    --------\n",
      "    >>> tmp = [('a', 1), ('b', 2), ('1', 3), ('d', 4), ('2', 5)]\n",
      "    >>> sc.parallelize(tmp).sortByKey().first()\n",
      "    ('1', 3)\n",
      "    >>> sc.parallelize(tmp).sortByKey(True, 1).collect()\n",
      "    [('1', 3), ('2', 5), ('a', 1), ('b', 2), ('d', 4)]\n",
      "    >>> sc.parallelize(tmp).sortByKey(True, 2).collect()\n",
      "    [('1', 3), ('2', 5), ('a', 1), ('b', 2), ('d', 4)]\n",
      "    >>> tmp2 = [('Mary', 1), ('had', 2), ('a', 3), ('little', 4), ('lamb', 5)]\n",
      "    >>> tmp2.extend([('whose', 6), ('fleece', 7), ('was', 8), ('white', 9)])\n",
      "    >>> sc.parallelize(tmp2).sortByKey(True, 3, keyfunc=lambda k: k.lower()).collect()\n",
      "    [('a', 3), ('fleece', 7), ('had', 2), ('lamb', 5),...('white', 9), ('whose', 6)]\n",
      "\n"
     ]
    }
   ],
   "source": [
    "help(rdd3.sortByKey)"
   ]
  },
  {
   "cell_type": "code",
   "execution_count": null,
   "id": "89b64a91-833f-4979-bb8a-d9db85fc4c47",
   "metadata": {},
   "outputs": [],
   "source": []
  }
 ],
 "metadata": {
  "kernelspec": {
   "display_name": "Python 3 (ipykernel)",
   "language": "python",
   "name": "python3"
  },
  "language_info": {
   "codemirror_mode": {
    "name": "ipython",
    "version": 3
   },
   "file_extension": ".py",
   "mimetype": "text/x-python",
   "name": "python",
   "nbconvert_exporter": "python",
   "pygments_lexer": "ipython3",
   "version": "3.11.1"
  }
 },
 "nbformat": 4,
 "nbformat_minor": 5
}
