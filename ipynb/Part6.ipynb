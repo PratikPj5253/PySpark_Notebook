{
 "cells": [
  {
   "cell_type": "code",
   "execution_count": 2,
   "id": "0d1a5ed1-bdae-433e-a60e-fb6055c0196d",
   "metadata": {},
   "outputs": [],
   "source": [
    "import pyspark"
   ]
  },
  {
   "cell_type": "code",
   "execution_count": 22,
   "id": "f32e1a4f-d723-4915-a054-d77132a7f8aa",
   "metadata": {},
   "outputs": [],
   "source": [
    "from pyspark.sql.functions import when, col"
   ]
  },
  {
   "cell_type": "code",
   "execution_count": 3,
   "id": "7a8e43b0-53e2-4eeb-8d92-558063cf5547",
   "metadata": {},
   "outputs": [],
   "source": [
    "from pyspark.sql import SparkSession"
   ]
  },
  {
   "cell_type": "code",
   "execution_count": 4,
   "id": "80d6391f-57db-4853-8788-6b3509bf0c94",
   "metadata": {},
   "outputs": [],
   "source": [
    "spark = SparkSession.builder.appName('Practice').getOrCreate()"
   ]
  },
  {
   "cell_type": "code",
   "execution_count": 5,
   "id": "42441fc4-b074-4604-85f0-10ab6a078eeb",
   "metadata": {},
   "outputs": [
    {
     "data": {
      "text/html": [
       "\n",
       "            <div>\n",
       "                <p><b>SparkSession - in-memory</b></p>\n",
       "                \n",
       "        <div>\n",
       "            <p><b>SparkContext</b></p>\n",
       "\n",
       "            <p><a href=\"http://LIN51013396.corp.capgemini.com:4041\">Spark UI</a></p>\n",
       "\n",
       "            <dl>\n",
       "              <dt>Version</dt>\n",
       "                <dd><code>v3.5.0</code></dd>\n",
       "              <dt>Master</dt>\n",
       "                <dd><code>local[*]</code></dd>\n",
       "              <dt>AppName</dt>\n",
       "                <dd><code>Practice</code></dd>\n",
       "            </dl>\n",
       "        </div>\n",
       "        \n",
       "            </div>\n",
       "        "
      ],
      "text/plain": [
       "<pyspark.sql.session.SparkSession at 0x1fd2cfe8f90>"
      ]
     },
     "execution_count": 5,
     "metadata": {},
     "output_type": "execute_result"
    }
   ],
   "source": [
    "spark"
   ]
  },
  {
   "cell_type": "markdown",
   "id": "325a021e-711d-466a-82c4-d4f02120f8ae",
   "metadata": {},
   "source": [
    "# Join two CSV Dataset with Join Fuction"
   ]
  },
  {
   "cell_type": "code",
   "execution_count": 6,
   "id": "e3f9a606-b661-439f-ab86-b4ff6e88d335",
   "metadata": {},
   "outputs": [],
   "source": [
    "csv1 = spark.read.csv('csv1.csv',header=True,inferSchema=True)"
   ]
  },
  {
   "cell_type": "code",
   "execution_count": 7,
   "id": "a1ab12e4-a77d-4a3b-b836-4862d9c32d4d",
   "metadata": {},
   "outputs": [
    {
     "name": "stdout",
     "output_type": "stream",
     "text": [
      "+---+--------+\n",
      "| id|    name|\n",
      "+---+--------+\n",
      "|  1|  Prtaik|\n",
      "|  2| Harshad|\n",
      "|  3| Saurabh|\n",
      "|  4|Kaustubh|\n",
      "|  5| shaoaib|\n",
      "+---+--------+\n",
      "\n"
     ]
    }
   ],
   "source": [
    "csv1.show()"
   ]
  },
  {
   "cell_type": "code",
   "execution_count": 8,
   "id": "e5e221f2-8ba0-4a83-a7a4-9dbb89d51de0",
   "metadata": {},
   "outputs": [],
   "source": [
    "csv2 = spark.read.csv('csv2.csv',header=True,inferSchema=True)"
   ]
  },
  {
   "cell_type": "code",
   "execution_count": 9,
   "id": "c2d7f161-74a7-470c-9ac3-fb6931acfdbb",
   "metadata": {},
   "outputs": [
    {
     "name": "stdout",
     "output_type": "stream",
     "text": [
      "+---+----------+\n",
      "| id| dept_name|\n",
      "+---+----------+\n",
      "|  1|        HR|\n",
      "|  2|   Medical|\n",
      "|  3|   Finance|\n",
      "|  4|  Security|\n",
      "|  5|Automobile|\n",
      "+---+----------+\n",
      "\n"
     ]
    }
   ],
   "source": [
    "csv2.show()"
   ]
  },
  {
   "cell_type": "code",
   "execution_count": 10,
   "id": "aeee4d03-102f-40a7-b69e-76c0a3fcbf1a",
   "metadata": {},
   "outputs": [],
   "source": [
    "join_csv = csv1.join(csv2, on='id', how='inner').select('id','dept_name')\n",
    "    ## It joins two CSV files together\n",
    "        # to acheive this result, column in both csv table should be same i.e. 'id' column"
   ]
  },
  {
   "cell_type": "code",
   "execution_count": 11,
   "id": "93cef31e-8e3e-4751-a65b-8e2885520267",
   "metadata": {},
   "outputs": [
    {
     "name": "stdout",
     "output_type": "stream",
     "text": [
      "+---+----------+\n",
      "| id| dept_name|\n",
      "+---+----------+\n",
      "|  1|        HR|\n",
      "|  2|   Medical|\n",
      "|  3|   Finance|\n",
      "|  4|  Security|\n",
      "|  5|Automobile|\n",
      "+---+----------+\n",
      "\n"
     ]
    }
   ],
   "source": [
    "join_csv.show()"
   ]
  },
  {
   "cell_type": "code",
   "execution_count": 12,
   "id": "a4fbf4f0-a1f1-4da5-a49f-c1b29e5275a6",
   "metadata": {},
   "outputs": [
    {
     "name": "stdout",
     "output_type": "stream",
     "text": [
      "+---+--------+\n",
      "| id|    name|\n",
      "+---+--------+\n",
      "|  5| shaoaib|\n",
      "|  4|Kaustubh|\n",
      "|  3| Saurabh|\n",
      "|  2| Harshad|\n",
      "|  1|  Prtaik|\n",
      "+---+--------+\n",
      "\n"
     ]
    }
   ],
   "source": [
    "csv1.orderBy(csv1.id.desc()).show()\n",
    "    ## To order by desc by id column"
   ]
  },
  {
   "cell_type": "code",
   "execution_count": 13,
   "id": "4fd54852-0215-4d73-9ae5-d9b843b748be",
   "metadata": {},
   "outputs": [
    {
     "name": "stdout",
     "output_type": "stream",
     "text": [
      "+---+--------+\n",
      "| id|    name|\n",
      "+---+--------+\n",
      "|  1|  Prtaik|\n",
      "|  2| Harshad|\n",
      "|  3| Saurabh|\n",
      "|  4|Kaustubh|\n",
      "|  5| shaoaib|\n",
      "+---+--------+\n",
      "\n"
     ]
    }
   ],
   "source": [
    "csv1.orderBy(csv1.id.asc()).show()\n",
    "    ## To order by asc by id column"
   ]
  },
  {
   "cell_type": "code",
   "execution_count": 14,
   "id": "4661a324-4f27-4a17-9afe-fec7d9661370",
   "metadata": {},
   "outputs": [
    {
     "name": "stdout",
     "output_type": "stream",
     "text": [
      "+---+--------+\n",
      "| id|    name|\n",
      "+---+--------+\n",
      "|  1|  Prtaik|\n",
      "|  2| Harshad|\n",
      "|  3| Saurabh|\n",
      "|  4|Kaustubh|\n",
      "|  5| shaoaib|\n",
      "+---+--------+\n",
      "\n"
     ]
    }
   ],
   "source": [
    "csv1.show()"
   ]
  },
  {
   "cell_type": "code",
   "execution_count": 23,
   "id": "1dc165f7-8a55-424e-9cb6-a4373f579c5d",
   "metadata": {},
   "outputs": [],
   "source": [
    "csv1_updated =csv1.withColumn('name', when(col('id') == 5, 'Shoaib').otherwise(col('name')))\n",
    " # Suppose I want to update row no 5 whose id is 5 then above query will use.\n",
    " # Here I want to update Name 'shaoaib' to 'Shoaib'"
   ]
  },
  {
   "cell_type": "code",
   "execution_count": 24,
   "id": "c4d03067-96d6-4acc-afdb-a46efb856c68",
   "metadata": {},
   "outputs": [
    {
     "name": "stdout",
     "output_type": "stream",
     "text": [
      "+---+--------+\n",
      "| id|    name|\n",
      "+---+--------+\n",
      "|  1|  Prtaik|\n",
      "|  2| Harshad|\n",
      "|  3| Saurabh|\n",
      "|  4|Kaustubh|\n",
      "|  5|  Shoaib|\n",
      "+---+--------+\n",
      "\n"
     ]
    }
   ],
   "source": [
    "csv1_updated.show()"
   ]
  },
  {
   "cell_type": "code",
   "execution_count": null,
   "id": "0141b2f1-5814-4787-a002-458d82e1c8dd",
   "metadata": {},
   "outputs": [],
   "source": []
  },
  {
   "cell_type": "code",
   "execution_count": null,
   "id": "70bf33f3-e278-43b1-8313-867b692a0d07",
   "metadata": {},
   "outputs": [],
   "source": [
    "\n"
   ]
  }
 ],
 "metadata": {
  "kernelspec": {
   "display_name": "Python 3 (ipykernel)",
   "language": "python",
   "name": "python3"
  },
  "language_info": {
   "codemirror_mode": {
    "name": "ipython",
    "version": 3
   },
   "file_extension": ".py",
   "mimetype": "text/x-python",
   "name": "python",
   "nbconvert_exporter": "python",
   "pygments_lexer": "ipython3",
   "version": "3.11.1"
  }
 },
 "nbformat": 4,
 "nbformat_minor": 5
}
