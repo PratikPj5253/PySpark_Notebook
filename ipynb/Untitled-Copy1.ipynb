{
 "cells": [
  {
   "cell_type": "markdown",
   "id": "a52dd99a-0d88-47c6-abd8-387bc8510072",
   "metadata": {},
   "source": [
    "## Perform SQL Queries in Existing DataFrane"
   ]
  },
  {
   "cell_type": "code",
   "execution_count": 5,
   "id": "6309b959-c40f-4be3-b40f-ab12e3f83314",
   "metadata": {},
   "outputs": [],
   "source": [
    "from pyspark.sql import *"
   ]
  },
  {
   "cell_type": "code",
   "execution_count": 6,
   "id": "2493c829-1a79-4b80-bd99-b204614d97c9",
   "metadata": {},
   "outputs": [],
   "source": [
    "spark = SparkSession.builder.appName('test').getOrCreate()"
   ]
  },
  {
   "cell_type": "code",
   "execution_count": 7,
   "id": "b6f1e410-9712-49a7-9fb5-2a76ce95684a",
   "metadata": {},
   "outputs": [
    {
     "data": {
      "text/html": [
       "\n",
       "            <div>\n",
       "                <p><b>SparkSession - in-memory</b></p>\n",
       "                \n",
       "        <div>\n",
       "            <p><b>SparkContext</b></p>\n",
       "\n",
       "            <p><a href=\"http://LIN51013396.corp.capgemini.com:4041\">Spark UI</a></p>\n",
       "\n",
       "            <dl>\n",
       "              <dt>Version</dt>\n",
       "                <dd><code>v3.5.0</code></dd>\n",
       "              <dt>Master</dt>\n",
       "                <dd><code>local[*]</code></dd>\n",
       "              <dt>AppName</dt>\n",
       "                <dd><code>test</code></dd>\n",
       "            </dl>\n",
       "        </div>\n",
       "        \n",
       "            </div>\n",
       "        "
      ],
      "text/plain": [
       "<pyspark.sql.session.SparkSession at 0x1f652350b50>"
      ]
     },
     "execution_count": 7,
     "metadata": {},
     "output_type": "execute_result"
    }
   ],
   "source": [
    "spark"
   ]
  },
  {
   "cell_type": "code",
   "execution_count": 8,
   "id": "8a600476-bca5-4572-927b-ab2aaf04e221",
   "metadata": {},
   "outputs": [],
   "source": [
    "df = spark.read.csv('test4.csv', header=True, inferSchema=True)"
   ]
  },
  {
   "cell_type": "code",
   "execution_count": 9,
   "id": "c578b806-b34f-4212-868f-b6678175b4e1",
   "metadata": {},
   "outputs": [
    {
     "name": "stdout",
     "output_type": "stream",
     "text": [
      "+---------+------------+------+\n",
      "|     Name| Departments|salary|\n",
      "+---------+------------+------+\n",
      "|    Krish|Data Science| 10000|\n",
      "|    Krish|         IOT|  5000|\n",
      "|   Mahesh|    Big Data|  4000|\n",
      "|    Krish|    Big Data|  4000|\n",
      "|   Mahesh|Data Science|  3000|\n",
      "|Sudhanshu|Data Science| 20000|\n",
      "|Sudhanshu|         IOT| 10000|\n",
      "|Sudhanshu|    Big Data|  5000|\n",
      "|    Sunny|Data Science| 10000|\n",
      "|    Sunny|    Big Data|  2000|\n",
      "+---------+------------+------+\n",
      "\n"
     ]
    }
   ],
   "source": [
    "df.show()"
   ]
  },
  {
   "cell_type": "code",
   "execution_count": 10,
   "id": "1932f88c-067d-416e-a592-7787510e3363",
   "metadata": {},
   "outputs": [],
   "source": [
    "df.createOrReplaceTempView('emp')\n",
    " # Creating a temporary view named 'emp' based on the DataFrame 'df'"
   ]
  },
  {
   "cell_type": "code",
   "execution_count": 11,
   "id": "3edd69f5-dab2-466e-8570-e26715def9ae",
   "metadata": {},
   "outputs": [
    {
     "name": "stdout",
     "output_type": "stream",
     "text": [
      "+------------+-------------+\n",
      "| departments|count_of_dept|\n",
      "+------------+-------------+\n",
      "|         IOT|            2|\n",
      "|    Big Data|            4|\n",
      "|Data Science|            4|\n",
      "+------------+-------------+\n",
      "\n"
     ]
    }
   ],
   "source": [
    "spark.sql('Select departments, count(*) as count_of_dept from emp group by departments').show()\n",
    " # Here we can perform our SQL queries"
   ]
  },
  {
   "cell_type": "code",
   "execution_count": null,
   "id": "f2c96918-32e9-4907-b6ff-116a83764d9a",
   "metadata": {},
   "outputs": [],
   "source": []
  }
 ],
 "metadata": {
  "kernelspec": {
   "display_name": "Python 3 (ipykernel)",
   "language": "python",
   "name": "python3"
  },
  "language_info": {
   "codemirror_mode": {
    "name": "ipython",
    "version": 3
   },
   "file_extension": ".py",
   "mimetype": "text/x-python",
   "name": "python",
   "nbconvert_exporter": "python",
   "pygments_lexer": "ipython3",
   "version": "3.11.1"
  }
 },
 "nbformat": 4,
 "nbformat_minor": 5
}
