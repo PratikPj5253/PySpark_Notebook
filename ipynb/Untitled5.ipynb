{
 "cells": [
  {
   "cell_type": "code",
   "execution_count": 2,
   "id": "df78f9e3-6baf-4b29-9ade-f927da8dc232",
   "metadata": {},
   "outputs": [],
   "source": [
    "import pyspark"
   ]
  },
  {
   "cell_type": "code",
   "execution_count": 3,
   "id": "69feaea1-3aa1-4b44-bde0-bb1814d0ddf7",
   "metadata": {},
   "outputs": [],
   "source": [
    "from pyspark.sql import *"
   ]
  },
  {
   "cell_type": "code",
   "execution_count": 4,
   "id": "283c651d-3594-485e-9c2f-92d0542e5510",
   "metadata": {},
   "outputs": [],
   "source": [
    "spark = SparkSession.builder.appName('test').getOrCreate()"
   ]
  },
  {
   "cell_type": "code",
   "execution_count": 5,
   "id": "6a8254c5-3bf7-4b6c-9ba3-11590cf4ee28",
   "metadata": {},
   "outputs": [],
   "source": [
    "df = spark.read.csv('C:/Users/PRATJADH/Downloads/effects-of-covid-19-on-trade-at-15-december-2021-provisional.csv', header = True, inferSchema=True)"
   ]
  },
  {
   "cell_type": "code",
   "execution_count": 6,
   "id": "2d9a97bd-1486-4064-ad2c-1e15c3c33517",
   "metadata": {},
   "outputs": [
    {
     "name": "stdout",
     "output_type": "stream",
     "text": [
      "+---------+----+----------+---------+-------+---------+--------------+-------+---------+----------+\n",
      "|Direction|Year|      Date|  Weekday|Country|Commodity|Transport_Mode|Measure|    Value|Cumulative|\n",
      "+---------+----+----------+---------+-------+---------+--------------+-------+---------+----------+\n",
      "|  Exports|2015|01/01/2015| Thursday|    All|      All|           All|      $|104000000| 104000000|\n",
      "|  Exports|2015|02/01/2015|   Friday|    All|      All|           All|      $| 96000000| 200000000|\n",
      "|  Exports|2015|03/01/2015| Saturday|    All|      All|           All|      $| 61000000| 262000000|\n",
      "|  Exports|2015|04/01/2015|   Sunday|    All|      All|           All|      $| 74000000| 336000000|\n",
      "|  Exports|2015|05/01/2015|   Monday|    All|      All|           All|      $|105000000| 442000000|\n",
      "|  Exports|2015|06/01/2015|  Tuesday|    All|      All|           All|      $| 76000000| 518000000|\n",
      "|  Exports|2015|07/01/2015|Wednesday|    All|      All|           All|      $| 59000000| 577000000|\n",
      "|  Exports|2015|08/01/2015| Thursday|    All|      All|           All|      $|111000000| 688000000|\n",
      "|  Exports|2015|09/01/2015|   Friday|    All|      All|           All|      $| 98000000| 786000000|\n",
      "|  Exports|2015|10/01/2015| Saturday|    All|      All|           All|      $| 89000000| 875000000|\n",
      "|  Exports|2015|11/01/2015|   Sunday|    All|      All|           All|      $|111000000| 986000000|\n",
      "|  Exports|2015|12/01/2015|   Monday|    All|      All|           All|      $|161000000|1147000000|\n",
      "|  Exports|2015|13/01/2015|  Tuesday|    All|      All|           All|      $| 96000000|1242000000|\n",
      "|  Exports|2015|14/01/2015|Wednesday|    All|      All|           All|      $| 83000000|1325000000|\n",
      "|  Exports|2015|15/01/2015| Thursday|    All|      All|           All|      $|109000000|1434000000|\n",
      "|  Exports|2015|16/01/2015|   Friday|    All|      All|           All|      $|155000000|1589000000|\n",
      "|  Exports|2015|17/01/2015| Saturday|    All|      All|           All|      $|168000000|1757000000|\n",
      "|  Exports|2015|18/01/2015|   Sunday|    All|      All|           All|      $| 90000000|1847000000|\n",
      "|  Exports|2015|19/01/2015|   Monday|    All|      All|           All|      $|164000000|2011000000|\n",
      "|  Exports|2015|20/01/2015|  Tuesday|    All|      All|           All|      $|134000000|2145000000|\n",
      "+---------+----+----------+---------+-------+---------+--------------+-------+---------+----------+\n",
      "only showing top 20 rows\n",
      "\n"
     ]
    }
   ],
   "source": [
    "df.show()"
   ]
  },
  {
   "cell_type": "code",
   "execution_count": 7,
   "id": "f4b89c50-f5f8-469e-86d4-41652871472b",
   "metadata": {},
   "outputs": [
    {
     "name": "stdout",
     "output_type": "stream",
     "text": [
      "root\n",
      " |-- Direction: string (nullable = true)\n",
      " |-- Year: integer (nullable = true)\n",
      " |-- Date: string (nullable = true)\n",
      " |-- Weekday: string (nullable = true)\n",
      " |-- Country: string (nullable = true)\n",
      " |-- Commodity: string (nullable = true)\n",
      " |-- Transport_Mode: string (nullable = true)\n",
      " |-- Measure: string (nullable = true)\n",
      " |-- Value: integer (nullable = true)\n",
      " |-- Cumulative: long (nullable = true)\n",
      "\n"
     ]
    }
   ],
   "source": [
    "df.printSchema()"
   ]
  },
  {
   "cell_type": "code",
   "execution_count": 8,
   "id": "bb54da05-90a1-40bf-be41-2c9bad56b8f8",
   "metadata": {},
   "outputs": [
    {
     "name": "stdout",
     "output_type": "stream",
     "text": [
      "+---------+----+----------+---------+-------+---------+--------------+-------+---------+----------+\n",
      "|Direction|Year|      Date|  Weekday|Country|Commodity|Transport_Mode|Measure|    Value|Cumulative|\n",
      "+---------+----+----------+---------+-------+---------+--------------+-------+---------+----------+\n",
      "|  Exports|2015|01/01/2015| Thursday|    All|      All|           All|      $|104000000| 104000000|\n",
      "|  Exports|2015|02/01/2015|   Friday|    All|      All|           All|      $| 96000000| 200000000|\n",
      "|  Exports|2015|03/01/2015| Saturday|    All|      All|           All|      $| 61000000| 262000000|\n",
      "|  Exports|2015|04/01/2015|   Sunday|    All|      All|           All|      $| 74000000| 336000000|\n",
      "|  Exports|2015|05/01/2015|   Monday|    All|      All|           All|      $|105000000| 442000000|\n",
      "|  Exports|2015|06/01/2015|  Tuesday|    All|      All|           All|      $| 76000000| 518000000|\n",
      "|  Exports|2015|07/01/2015|Wednesday|    All|      All|           All|      $| 59000000| 577000000|\n",
      "|  Exports|2015|08/01/2015| Thursday|    All|      All|           All|      $|111000000| 688000000|\n",
      "|  Exports|2015|09/01/2015|   Friday|    All|      All|           All|      $| 98000000| 786000000|\n",
      "|  Exports|2015|10/01/2015| Saturday|    All|      All|           All|      $| 89000000| 875000000|\n",
      "|  Exports|2015|11/01/2015|   Sunday|    All|      All|           All|      $|111000000| 986000000|\n",
      "|  Exports|2015|12/01/2015|   Monday|    All|      All|           All|      $|161000000|1147000000|\n",
      "|  Exports|2015|13/01/2015|  Tuesday|    All|      All|           All|      $| 96000000|1242000000|\n",
      "|  Exports|2015|14/01/2015|Wednesday|    All|      All|           All|      $| 83000000|1325000000|\n",
      "|  Exports|2015|15/01/2015| Thursday|    All|      All|           All|      $|109000000|1434000000|\n",
      "|  Exports|2015|16/01/2015|   Friday|    All|      All|           All|      $|155000000|1589000000|\n",
      "|  Exports|2015|17/01/2015| Saturday|    All|      All|           All|      $|168000000|1757000000|\n",
      "|  Exports|2015|18/01/2015|   Sunday|    All|      All|           All|      $| 90000000|1847000000|\n",
      "|  Exports|2015|19/01/2015|   Monday|    All|      All|           All|      $|164000000|2011000000|\n",
      "|  Exports|2015|20/01/2015|  Tuesday|    All|      All|           All|      $|134000000|2145000000|\n",
      "+---------+----+----------+---------+-------+---------+--------------+-------+---------+----------+\n",
      "only showing top 20 rows\n",
      "\n"
     ]
    }
   ],
   "source": [
    "df.show()"
   ]
  },
  {
   "cell_type": "code",
   "execution_count": 9,
   "id": "b4d51619-7144-4e61-86df-d6c065fee024",
   "metadata": {},
   "outputs": [
    {
     "name": "stdout",
     "output_type": "stream",
     "text": [
      "+---------+---------+---------+\n",
      "|Direction|  weekday|    value|\n",
      "+---------+---------+---------+\n",
      "|  Exports| Thursday|104000000|\n",
      "|  Exports|   Friday| 96000000|\n",
      "|  Exports| Saturday| 61000000|\n",
      "|  Exports|   Sunday| 74000000|\n",
      "|  Exports|   Monday|105000000|\n",
      "|  Exports|  Tuesday| 76000000|\n",
      "|  Exports|Wednesday| 59000000|\n",
      "|  Exports| Thursday|111000000|\n",
      "|  Exports|   Friday| 98000000|\n",
      "|  Exports| Saturday| 89000000|\n",
      "|  Exports|   Sunday|111000000|\n",
      "|  Exports|   Monday|161000000|\n",
      "|  Exports|  Tuesday| 96000000|\n",
      "|  Exports|Wednesday| 83000000|\n",
      "|  Exports| Thursday|109000000|\n",
      "|  Exports|   Friday|155000000|\n",
      "|  Exports| Saturday|168000000|\n",
      "|  Exports|   Sunday| 90000000|\n",
      "|  Exports|   Monday|164000000|\n",
      "|  Exports|  Tuesday|134000000|\n",
      "+---------+---------+---------+\n",
      "only showing top 20 rows\n",
      "\n"
     ]
    }
   ],
   "source": [
    "df.select(['Direction', 'weekday', 'value']).show()"
   ]
  },
  {
   "cell_type": "code",
   "execution_count": 10,
   "id": "3fef91e7-8cbc-4ac6-90a3-c0b18cfe66b1",
   "metadata": {},
   "outputs": [
    {
     "name": "stdout",
     "output_type": "stream",
     "text": [
      "+---------+-------+---------+\n",
      "|Direction|weekday|    value|\n",
      "+---------+-------+---------+\n",
      "|  Exports| Sunday| 74000000|\n",
      "|  Exports| Sunday|111000000|\n",
      "|  Exports| Sunday| 90000000|\n",
      "|  Exports| Sunday|119000000|\n",
      "|  Exports| Sunday|123000000|\n",
      "|  Exports| Sunday|114000000|\n",
      "|  Exports| Sunday|111000000|\n",
      "|  Exports| Sunday|135000000|\n",
      "|  Exports| Sunday|386000000|\n",
      "|  Exports| Sunday|112000000|\n",
      "|  Exports| Sunday|133000000|\n",
      "|  Exports| Sunday|146000000|\n",
      "|  Exports| Sunday|140000000|\n",
      "|  Exports| Sunday|153000000|\n",
      "|  Exports| Sunday|115000000|\n",
      "|  Exports| Sunday|146000000|\n",
      "|  Exports| Sunday|136000000|\n",
      "|  Exports| Sunday|165000000|\n",
      "|  Exports| Sunday|157000000|\n",
      "|  Exports| Sunday|124000000|\n",
      "+---------+-------+---------+\n",
      "only showing top 20 rows\n",
      "\n"
     ]
    }
   ],
   "source": [
    "df.select(['Direction', 'weekday', 'value']).where(df['weekday'] == 'Sunday').show() "
   ]
  },
  {
   "cell_type": "code",
   "execution_count": 12,
   "id": "1ce2a5f2-6a16-49fb-bcbb-e08d65a02682",
   "metadata": {},
   "outputs": [
    {
     "name": "stdout",
     "output_type": "stream",
     "text": [
      "+---------+-----+\n",
      "|  weekday|count|\n",
      "+---------+-----+\n",
      "|Wednesday|15897|\n",
      "|  Tuesday|15934|\n",
      "|   Friday|15959|\n",
      "| Thursday|15919|\n",
      "| Saturday|15873|\n",
      "|   Monday|15931|\n",
      "|   Sunday|15925|\n",
      "+---------+-----+\n",
      "\n"
     ]
    }
   ],
   "source": [
    "df.groupBy('weekday').count().show()"
   ]
  },
  {
   "cell_type": "code",
   "execution_count": 13,
   "id": "592d3c3a-27ea-437f-8b90-4854fdac03ba",
   "metadata": {},
   "outputs": [],
   "source": [
    "df.createOrReplaceTempView('covid')"
   ]
  },
  {
   "cell_type": "code",
   "execution_count": 14,
   "id": "87fe343f-e3d3-4475-aac0-ef5937ce3f21",
   "metadata": {
    "scrolled": true
   },
   "outputs": [
    {
     "name": "stdout",
     "output_type": "stream",
     "text": [
      "+---------+----+----------+---------+-------+---------+--------------+-------+---------+----------+\n",
      "|Direction|Year|      Date|  Weekday|Country|Commodity|Transport_Mode|Measure|    Value|Cumulative|\n",
      "+---------+----+----------+---------+-------+---------+--------------+-------+---------+----------+\n",
      "|  Exports|2015|01/01/2015| Thursday|    All|      All|           All|      $|104000000| 104000000|\n",
      "|  Exports|2015|02/01/2015|   Friday|    All|      All|           All|      $| 96000000| 200000000|\n",
      "|  Exports|2015|03/01/2015| Saturday|    All|      All|           All|      $| 61000000| 262000000|\n",
      "|  Exports|2015|04/01/2015|   Sunday|    All|      All|           All|      $| 74000000| 336000000|\n",
      "|  Exports|2015|05/01/2015|   Monday|    All|      All|           All|      $|105000000| 442000000|\n",
      "|  Exports|2015|06/01/2015|  Tuesday|    All|      All|           All|      $| 76000000| 518000000|\n",
      "|  Exports|2015|07/01/2015|Wednesday|    All|      All|           All|      $| 59000000| 577000000|\n",
      "|  Exports|2015|08/01/2015| Thursday|    All|      All|           All|      $|111000000| 688000000|\n",
      "|  Exports|2015|09/01/2015|   Friday|    All|      All|           All|      $| 98000000| 786000000|\n",
      "|  Exports|2015|10/01/2015| Saturday|    All|      All|           All|      $| 89000000| 875000000|\n",
      "|  Exports|2015|11/01/2015|   Sunday|    All|      All|           All|      $|111000000| 986000000|\n",
      "|  Exports|2015|12/01/2015|   Monday|    All|      All|           All|      $|161000000|1147000000|\n",
      "|  Exports|2015|13/01/2015|  Tuesday|    All|      All|           All|      $| 96000000|1242000000|\n",
      "|  Exports|2015|14/01/2015|Wednesday|    All|      All|           All|      $| 83000000|1325000000|\n",
      "|  Exports|2015|15/01/2015| Thursday|    All|      All|           All|      $|109000000|1434000000|\n",
      "|  Exports|2015|16/01/2015|   Friday|    All|      All|           All|      $|155000000|1589000000|\n",
      "|  Exports|2015|17/01/2015| Saturday|    All|      All|           All|      $|168000000|1757000000|\n",
      "|  Exports|2015|18/01/2015|   Sunday|    All|      All|           All|      $| 90000000|1847000000|\n",
      "|  Exports|2015|19/01/2015|   Monday|    All|      All|           All|      $|164000000|2011000000|\n",
      "|  Exports|2015|20/01/2015|  Tuesday|    All|      All|           All|      $|134000000|2145000000|\n",
      "+---------+----+----------+---------+-------+---------+--------------+-------+---------+----------+\n",
      "only showing top 20 rows\n",
      "\n"
     ]
    }
   ],
   "source": [
    "spark.sql('select * from covid').show()"
   ]
  },
  {
   "cell_type": "code",
   "execution_count": 16,
   "id": "6aa55fd6-32d3-47ae-b46b-3c1d3d80bfe4",
   "metadata": {},
   "outputs": [
    {
     "name": "stdout",
     "output_type": "stream",
     "text": [
      "+--------+\n",
      "|count(1)|\n",
      "+--------+\n",
      "|  111438|\n",
      "+--------+\n",
      "\n"
     ]
    }
   ],
   "source": [
    "spark.sql('select count(*) from covid').show()"
   ]
  },
  {
   "cell_type": "code",
   "execution_count": 17,
   "id": "59aadd43-4a56-43d0-a6db-2cc3054a9195",
   "metadata": {},
   "outputs": [
    {
     "name": "stdout",
     "output_type": "stream",
     "text": [
      "+--------------+\n",
      "|transport_mode|\n",
      "+--------------+\n",
      "|           Sea|\n",
      "|           All|\n",
      "|           Air|\n",
      "+--------------+\n",
      "\n"
     ]
    }
   ],
   "source": [
    "spark.sql('select transport_mode from covid group by transport_mode').show()"
   ]
  },
  {
   "cell_type": "code",
   "execution_count": 18,
   "id": "1952cadb-f3e9-4eb1-864c-08da68e78736",
   "metadata": {},
   "outputs": [
    {
     "name": "stdout",
     "output_type": "stream",
     "text": [
      "+--------------------+\n",
      "|           commodity|\n",
      "+--------------------+\n",
      "|Fish, crustaceans...|\n",
      "|                 All|\n",
      "|Electrical machin...|\n",
      "|               Fruit|\n",
      "|Mechanical machin...|\n",
      "|Meat and edible o...|\n",
      "|Logs, wood, and w...|\n",
      "|Milk powder, butt...|\n",
      "|Non-food manufact...|\n",
      "+--------------------+\n",
      "\n"
     ]
    }
   ],
   "source": [
    "spark.sql('select commodity from covid group by commodity').show()"
   ]
  },
  {
   "cell_type": "code",
   "execution_count": null,
   "id": "05dbbe07-9740-473c-8b69-6a0ec34dd243",
   "metadata": {},
   "outputs": [],
   "source": []
  }
 ],
 "metadata": {
  "kernelspec": {
   "display_name": "Python 3 (ipykernel)",
   "language": "python",
   "name": "python3"
  },
  "language_info": {
   "codemirror_mode": {
    "name": "ipython",
    "version": 3
   },
   "file_extension": ".py",
   "mimetype": "text/x-python",
   "name": "python",
   "nbconvert_exporter": "python",
   "pygments_lexer": "ipython3",
   "version": "3.11.1"
  }
 },
 "nbformat": 4,
 "nbformat_minor": 5
}
